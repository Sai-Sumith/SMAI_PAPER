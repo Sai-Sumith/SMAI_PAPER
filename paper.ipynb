{
  "nbformat": 4,
  "nbformat_minor": 0,
  "metadata": {
    "colab": {
      "provenance": []
    },
    "kernelspec": {
      "name": "python3",
      "display_name": "Python 3"
    },
    "language_info": {
      "name": "python"
    }
  },
  "cells": [
    {
      "cell_type": "code",
      "source": [
        "import warnings\n",
        "warnings.filterwarnings(\"ignore\")\n",
        "\n",
        "import numpy as np\n",
        "import pandas as pd\n",
        "\n",
        "import matplotlib.pyplot as plt\n",
        "import seaborn as sns\n",
        "%matplotlib inline\n",
        "from tqdm import tqdm\n",
        "import torch\n",
        "import torchvision\n",
        "from torchvision import datasets\n",
        "from torchvision import transforms\n",
        "from torch.autograd import Variable\n",
        "import torch.nn as nn\n",
        "from sklearn.metrics import classification_report,confusion_matrix"
      ],
      "metadata": {
        "id": "4RJonoI0UE7x"
      },
      "execution_count": 1,
      "outputs": []
    },
    {
      "cell_type": "code",
      "execution_count": null,
      "metadata": {
        "id": "jTJgPlvclZoa"
      },
      "outputs": [],
      "source": [
        "import numpy as np\n",
        "\n",
        "# Define radius and center of circle\n",
        "r = 1\n",
        "center = (0, 0)\n",
        "\n",
        "# Define angle range for circle\n",
        "theta = np.linspace(0, 2*np.pi, 20)\n",
        "\n",
        "# Generate coordinates for points on circle\n",
        "x = center[0] + r*np.cos(theta)\n",
        "y = center[1] + r*np.sin(theta)\n",
        "\n",
        "# Combine x and y into a single array\n",
        "data = np.stack((x, y), axis=1)\n",
        "\n",
        "# Assign alternating labels\n",
        "labels = np.ones(20)\n",
        "labels[1::2] = 0\n",
        "labels=np.asarray([float(i) for i in labels])\n",
        "print(\"Data:\\n\", data)\n",
        "print(\"Labels:\\n\", labels)\n"
      ]
    },
    {
      "cell_type": "code",
      "source": [
        "type(labels[0])"
      ],
      "metadata": {
        "colab": {
          "base_uri": "https://localhost:8080/"
        },
        "id": "WoBJ6ymUlWDm",
        "outputId": "7ba14b27-418b-499a-dbc9-784706c00e9e"
      },
      "execution_count": null,
      "outputs": [
        {
          "output_type": "execute_result",
          "data": {
            "text/plain": [
              "numpy.int64"
            ]
          },
          "metadata": {},
          "execution_count": 3
        }
      ]
    },
    {
      "cell_type": "code",
      "source": [
        "import numpy as np\n",
        "import matplotlib.pyplot as plt\n",
        "\n",
        "# Plot the data with different colors for each label\n",
        "plt.scatter(data[:,0], data[:,1], c=labels, cmap='coolwarm')\n",
        "plt.show()"
      ],
      "metadata": {
        "colab": {
          "base_uri": "https://localhost:8080/",
          "height": 430
        },
        "id": "f0OgnVoZmspg",
        "outputId": "2111e9ae-1987-449c-b922-d9d7b43ae355"
      },
      "execution_count": 3,
      "outputs": [
        {
          "output_type": "display_data",
          "data": {
            "text/plain": [
              "<Figure size 640x480 with 1 Axes>"
            ],
            "image/png": "[encoded data removed]"
          },
          "metadata": {}
        }
      ]
    },
    {
      "cell_type": "code",
      "source": [
        "device = torch.device(\"cuda:0\" if torch.cuda.is_available() else \"cpu\")\n",
        "print(device)"
      ],
      "metadata": {
        "colab": {
          "base_uri": "https://localhost:8080/"
        },
        "id": "uykxx0Q6UN03",
        "outputId": "5e356cfc-dd1c-460e-ea14-1d58c2eeb139"
      },
      "execution_count": 4,
      "outputs": [
        {
          "output_type": "stream",
          "name": "stdout",
          "text": [
            "cpu\n"
          ]
        }
      ]
    },
    {
      "cell_type": "code",
      "source": [
        "import torch.nn.init as init"
      ],
      "metadata": {
        "id": "EpIZGoknn5ki"
      },
      "execution_count": 5,
      "outputs": []
    },
    {
      "cell_type": "code",
      "source": [
        "class SimpleMLP(nn.Module):\n",
        "    def __init__(self):\n",
        "        super(SimpleMLP,self).__init__()\n",
        "        # code here\n",
        "        self.mlp1=nn.Linear(2,1000)\n",
        "        self.mlp2=nn.Linear(1000,1000)\n",
        "        self.mlp3=nn.Linear(1000,1)\n",
        "        self.double()\n",
        "        init.normal_(self.mlp1.weight, mean=0, std=0.1)\n",
        "        init.kaiming_uniform_(self.mlp2.weight, nonlinearity='relu')\n",
        "        init.kaiming_uniform_(self.mlp3.weight, nonlinearity='relu')\n",
        "        init.constant_(self.mlp1.bias, 0)\n",
        "        init.constant_(self.mlp2.bias, 0)\n",
        "        init.constant_(self.mlp3.bias, 0)\n",
        "    def forward(self,x):\n",
        "        # code here\n",
        "        output=torch.relu(self.mlp1(x))\n",
        "        output=torch.relu(self.mlp2(output))\n",
        "        output=self.mlp3(output)\n",
        "        return output\n",
        "model=SimpleMLP().to(device)"
      ],
      "metadata": {
        "id": "BsZ6_JGenh3I"
      },
      "execution_count": 18,
      "outputs": []
    },
    {
      "cell_type": "code",
      "source": [
        "optim_sgd_moment=torch.optim.SGD(model.parameters(),lr=0.001,momentum=0.5)"
      ],
      "metadata": {
        "id": "5XblhJOenoDO"
      },
      "execution_count": 7,
      "outputs": []
    },
    {
      "cell_type": "code",
      "source": [
        "import torch\n",
        "from torch.utils.data import Dataset, DataLoader\n",
        "\n",
        "class MyDataset(Dataset):\n",
        "    def __init__(self, data, labels):\n",
        "        self.data = data\n",
        "        self.labels = labels\n",
        "        \n",
        "    def __len__(self):\n",
        "        return len(self.data)\n",
        "    \n",
        "    def __getitem__(self, idx):\n",
        "        return self.data[idx], self.labels[idx]"
      ],
      "metadata": {
        "id": "nQfoNfu-YgFv"
      },
      "execution_count": 14,
      "outputs": []
    },
    {
      "cell_type": "code",
      "source": [
        "dataset = MyDataset(data, labels)\n",
        "dataloader = DataLoader(dataset, batch_size=1, shuffle=True)"
      ],
      "metadata": {
        "id": "8XvzzP-PZAS6"
      },
      "execution_count": 15,
      "outputs": []
    },
    {
      "cell_type": "code",
      "source": [
        "for i in dataloader:\n",
        "  output=model(i[0])\n",
        "  print(output.squeeze(dim=0))"
      ],
      "metadata": {
        "id": "VnhgWGHTZ72C",
        "colab": {
          "base_uri": "https://localhost:8080/"
        },
        "outputId": "81996bb6-2abf-4807-a190-45ee08dfb5f1"
      },
      "execution_count": 19,
      "outputs": [
        {
          "output_type": "stream",
          "name": "stdout",
          "text": [
            "tensor([0.0392], dtype=torch.float64, grad_fn=<SqueezeBackward1>)\n",
            "tensor([0.0666], dtype=torch.float64, grad_fn=<SqueezeBackward1>)\n",
            "tensor([0.0275], dtype=torch.float64, grad_fn=<SqueezeBackward1>)\n",
            "tensor([0.0941], dtype=torch.float64, grad_fn=<SqueezeBackward1>)\n",
            "tensor([0.0740], dtype=torch.float64, grad_fn=<SqueezeBackward1>)\n",
            "tensor([0.0281], dtype=torch.float64, grad_fn=<SqueezeBackward1>)\n",
            "tensor([0.0684], dtype=torch.float64, grad_fn=<SqueezeBackward1>)\n",
            "tensor([0.0706], dtype=torch.float64, grad_fn=<SqueezeBackward1>)\n",
            "tensor([0.0352], dtype=torch.float64, grad_fn=<SqueezeBackward1>)\n",
            "tensor([0.0803], dtype=torch.float64, grad_fn=<SqueezeBackward1>)\n",
            "tensor([0.0941], dtype=torch.float64, grad_fn=<SqueezeBackward1>)\n",
            "tensor([0.0384], dtype=torch.float64, grad_fn=<SqueezeBackward1>)\n",
            "tensor([0.0689], dtype=torch.float64, grad_fn=<SqueezeBackward1>)\n",
            "tensor([0.0857], dtype=torch.float64, grad_fn=<SqueezeBackward1>)\n",
            "tensor([0.0294], dtype=torch.float64, grad_fn=<SqueezeBackward1>)\n",
            "tensor([0.0710], dtype=torch.float64, grad_fn=<SqueezeBackward1>)\n",
            "tensor([0.0694], dtype=torch.float64, grad_fn=<SqueezeBackward1>)\n",
            "tensor([0.0964], dtype=torch.float64, grad_fn=<SqueezeBackward1>)\n",
            "tensor([0.0249], dtype=torch.float64, grad_fn=<SqueezeBackward1>)\n",
            "tensor([0.0732], dtype=torch.float64, grad_fn=<SqueezeBackward1>)\n"
          ]
        }
      ]
    },
    {
      "cell_type": "code",
      "source": [
        "batch[0].shape"
      ],
      "metadata": {
        "colab": {
          "base_uri": "https://localhost:8080/",
          "height": 169
        },
        "id": "Wygfw0es8RdZ",
        "outputId": "836b0f80-6e74-448f-b510-1de86c7e25d5"
      },
      "execution_count": 11,
      "outputs": [
        {
          "output_type": "error",
          "ename": "NameError",
          "evalue": "ignored",
          "traceback": [
            "\u001b[0;31m---------------------------------------------------------------------------\u001b[0m",
            "\u001b[0;31mNameError\u001b[0m                                 Traceback (most recent call last)",
            "\u001b[0;32m<ipython-input-11-036456a09eb9>\u001b[0m in \u001b[0;36m<cell line: 1>\u001b[0;34m()\u001b[0m\n\u001b[0;32m----> 1\u001b[0;31m \u001b[0mbatch\u001b[0m\u001b[0;34m[\u001b[0m\u001b[0;36m0\u001b[0m\u001b[0;34m]\u001b[0m\u001b[0;34m.\u001b[0m\u001b[0mshape\u001b[0m\u001b[0;34m\u001b[0m\u001b[0;34m\u001b[0m\u001b[0m\n\u001b[0m",
            "\u001b[0;31mNameError\u001b[0m: name 'batch' is not defined"
          ]
        }
      ]
    },
    {
      "cell_type": "code",
      "source": [
        "n_epochs=200\n",
        "epochs=tqdm(range(n_epochs))\n",
        "training_loss_sgd=[]\n",
        "for epoch in epochs:\n",
        "  train_loss=[]\n",
        "  model.train()\n",
        "  for batch in dataloader:\n",
        "    optim_sgd_moment.zero_grad()\n",
        "    images=batch[0].to(device)\n",
        "    label=batch[1].to(device)\n",
        "    output=model(images)\n",
        "    #print(output.dtype)\n",
        "    loss=nn.BCELoss()(output.squeeze(dim=0),label)\n",
        "    loss.backward()\n",
        "    optim_sgd_moment.step()\n",
        "    train_loss.append(loss.item())\n",
        "  loss_now=np.mean(train_loss)\n",
        "  training_loss_sgd.append(loss_now)\n",
        "  epochs.set_postfix({'loss':loss_now}) "
      ],
      "metadata": {
        "id": "TDcwqrl2nqM7",
        "colab": {
          "base_uri": "https://localhost:8080/"
        },
        "outputId": "2a444c55-3763-4562-dc0c-e6cb1e83aff2"
      },
      "execution_count": 21,
      "outputs": [
        {
          "output_type": "stream",
          "name": "stderr",
          "text": [
            "100%|██████████| 200/200 [00:24<00:00,  8.15it/s, loss=1.47]\n"
          ]
        }
      ]
    },
    {
      "cell_type": "code",
      "source": [
        "weights_1 = model.mlp1.weight.data\n",
        "weights_2 = model.mlp2.weight.data\n",
        "weights_3 = model.mlp3.weight.data"
      ],
      "metadata": {
        "id": "7QxXlNvnZJyb"
      },
      "execution_count": 22,
      "outputs": []
    },
    {
      "cell_type": "code",
      "source": [
        "weights_3.shape"
      ],
      "metadata": {
        "colab": {
          "base_uri": "https://localhost:8080/"
        },
        "id": "91jfabkeo8QP",
        "outputId": "5cf51094-8ed2-41c2-cb11-f6a164d25de8"
      },
      "execution_count": 23,
      "outputs": [
        {
          "output_type": "execute_result",
          "data": {
            "text/plain": [
              "torch.Size([1, 1000])"
            ]
          },
          "metadata": {},
          "execution_count": 23
        }
      ]
    },
    {
      "cell_type": "code",
      "source": [
        "num_samples = 40"
      ],
      "metadata": {
        "id": "1GOQtkX2p0OD"
      },
      "execution_count": 24,
      "outputs": []
    },
    {
      "cell_type": "code",
      "source": [
        "x_recons = torch.randn(num_samples, 2,dtype=torch.float64) #creating random x \n",
        "l=torch.rand(num_samples)#creating random lamdas for respective x\n",
        "opt_x_recons = torch.optim.SGD([x_recons], lr=0.2821179669627431, momentum=0.9) #making it optimising variable\n",
        "opt_l=torch.optim.SGD([l],lr=0.2821179669627431,momentum=0.9) #making it optimising variable"
      ],
      "metadata": {
        "id": "qTenqv7Ho-G3"
      },
      "execution_count": 92,
      "outputs": []
    },
    {
      "cell_type": "code",
      "source": [
        "x_recons.dtype"
      ],
      "metadata": {
        "colab": {
          "base_uri": "https://localhost:8080/"
        },
        "id": "iIFQQNBjDJTf",
        "outputId": "6c36a5b1-731b-4475-a3fc-e4de0dd7a452"
      },
      "execution_count": 80,
      "outputs": [
        {
          "output_type": "execute_result",
          "data": {
            "text/plain": [
              "torch.float64"
            ]
          },
          "metadata": {},
          "execution_count": 80
        }
      ]
    },
    {
      "cell_type": "code",
      "source": [
        "values=model(x_recons)"
      ],
      "metadata": {
        "id": "cSbsqxSYC7lq"
      },
      "execution_count": 93,
      "outputs": []
    },
    {
      "cell_type": "code",
      "source": [
        "values=values.reshape(-1)"
      ],
      "metadata": {
        "id": "MgOvl10OC-8K"
      },
      "execution_count": 94,
      "outputs": []
    },
    {
      "cell_type": "code",
      "source": [
        "x_recons\n"
      ],
      "metadata": {
        "colab": {
          "base_uri": "https://localhost:8080/"
        },
        "id": "34P72io5P-Rh",
        "outputId": "dd76e711-c91c-4c84-ce7d-06636bb43d58"
      },
      "execution_count": 98,
      "outputs": [
        {
          "output_type": "execute_result",
          "data": {
            "text/plain": [
              "tensor([[-1.2235,  1.7353],\n",
              "        [ 2.5764,  0.2107],\n",
              "        [-0.4414, -1.2741],\n",
              "        [-0.4566,  0.1752],\n",
              "        [ 2.3700, -0.0648],\n",
              "        [ 1.2658,  1.0316],\n",
              "        [-1.5327,  0.4300],\n",
              "        [-0.6561, -1.9102],\n",
              "        [-0.5036, -0.3179],\n",
              "        [ 0.3324, -0.2464],\n",
              "        [ 2.0652,  0.5362],\n",
              "        [-1.0435, -0.0232],\n",
              "        [-0.8429,  0.1352],\n",
              "        [ 0.7699,  1.5022],\n",
              "        [-1.8188,  0.5215],\n",
              "        [-0.3799,  1.3657],\n",
              "        [ 0.4972,  0.8493],\n",
              "        [ 0.6745,  0.9361],\n",
              "        [ 1.0915,  0.8107],\n",
              "        [ 0.3614,  0.2835],\n",
              "        [-0.6915,  1.3357],\n",
              "        [-0.3250, -0.2189],\n",
              "        [-0.3023,  0.7911],\n",
              "        [ 1.4106,  0.1184],\n",
              "        [-0.1056,  0.7047],\n",
              "        [-0.9952,  0.6153],\n",
              "        [ 1.1083, -1.1610],\n",
              "        [-0.4932, -0.0900],\n",
              "        [-0.3884,  0.3270],\n",
              "        [ 0.1550,  1.9085],\n",
              "        [-0.7317, -0.3383],\n",
              "        [-0.3800,  0.9118],\n",
              "        [ 0.0822,  0.1019],\n",
              "        [ 1.2801,  0.3030],\n",
              "        [-1.2882,  0.6467],\n",
              "        [ 0.4412,  0.4514],\n",
              "        [ 1.1117,  0.4190],\n",
              "        [-0.2683,  2.5079],\n",
              "        [ 1.3044, -1.0662],\n",
              "        [ 0.9384,  0.0818]], dtype=torch.float64)"
            ]
          },
          "metadata": {},
          "execution_count": 98
        }
      ]
    },
    {
      "cell_type": "code",
      "source": [
        "print(l.shape,y.shape,values.shape)"
      ],
      "metadata": {
        "colab": {
          "base_uri": "https://localhost:8080/"
        },
        "id": "pt9dcOBNSyGP",
        "outputId": "1d37362d-8ce6-4078-df6a-dffa4e66f1ad"
      },
      "execution_count": 95,
      "outputs": [
        {
          "output_type": "stream",
          "name": "stdout",
          "text": [
            "torch.Size([40]) torch.Size([40]) torch.Size([40])\n"
          ]
        }
      ]
    },
    {
      "cell_type": "code",
      "source": [
        "l"
      ],
      "metadata": {
        "colab": {
          "base_uri": "https://localhost:8080/"
        },
        "id": "HSlAKe-2S-K4",
        "outputId": "13940d21-5db9-4c5b-b11e-07f5620d0d45"
      },
      "execution_count": 96,
      "outputs": [
        {
          "output_type": "execute_result",
          "data": {
            "text/plain": [
              "tensor([0.3163, 0.7050, 0.7809, 0.4065, 0.1297, 0.1897, 0.6174, 0.9572, 0.4884,\n",
              "        0.2616, 0.9923, 0.6754, 0.9847, 0.8273, 0.3466, 0.6942, 0.3303, 0.4535,\n",
              "        0.8913, 0.1964, 0.0693, 0.8075, 0.0861, 0.6302, 0.6802, 0.1999, 0.3245,\n",
              "        0.3988, 0.8052, 0.9325, 0.8161, 0.4101, 0.0609, 0.9995, 0.4087, 0.9831,\n",
              "        0.1271, 0.0170, 0.1142, 0.5008])"
            ]
          },
          "metadata": {},
          "execution_count": 96
        }
      ]
    },
    {
      "cell_type": "code",
      "source": [
        "l.dim()"
      ],
      "metadata": {
        "colab": {
          "base_uri": "https://localhost:8080/"
        },
        "id": "HU75yXoGSD_s",
        "outputId": "28524829-c024-4adb-ef36-996ccf48061a"
      },
      "execution_count": 97,
      "outputs": [
        {
          "output_type": "execute_result",
          "data": {
            "text/plain": [
              "1"
            ]
          },
          "metadata": {},
          "execution_count": 97
        }
      ]
    },
    {
      "cell_type": "code",
      "source": [],
      "metadata": {
        "id": "aOHKmlh1ShzB"
      },
      "execution_count": 48,
      "outputs": []
    },
    {
      "cell_type": "code",
      "source": [
        "y = torch.zeros(40)\n",
        "y[:20] = 1"
      ],
      "metadata": {
        "id": "WDkugyYHJEiy"
      },
      "execution_count": 99,
      "outputs": []
    },
    {
      "cell_type": "code",
      "source": [
        "def get_kkt_loss(values, l, y, model):\n",
        "    l = l.squeeze()\n",
        "    # all three shape should be (n)\n",
        "    assert values.dim() == 1\n",
        "    assert l.dim() == 1\n",
        "    assert y.dim() == 1\n",
        "    assert values.shape == l.shape == y.shape\n",
        "\n",
        "    output = values * l * y\n",
        "    grad = torch.autograd.grad(\n",
        "        outputs=output,\n",
        "        inputs=model.parameters(),\n",
        "        grad_outputs=torch.ones_like(output, requires_grad=False, device=output.device).div(500),\n",
        "        create_graph=True,\n",
        "        retain_graph=True,\n",
        "    )\n",
        "    kkt_loss = 0\n",
        "\n",
        "    for i, (p, grad) in enumerate(zip(model.parameters(), grad)):\n",
        "        assert p.shape == grad.shape\n",
        "        l = (p.detach().data - grad).pow(2).sum()\n",
        "        kkt_loss += l\n",
        "    return kkt_loss"
      ],
      "metadata": {
        "id": "MUgMzumwDoHy"
      },
      "execution_count": 88,
      "outputs": []
    },
    {
      "cell_type": "code",
      "source": [
        "kkt_loss=get_kkt_loss(values,l,y,model)"
      ],
      "metadata": {
        "id": "17jh4uxSPxBG"
      },
      "execution_count": 64,
      "outputs": []
    },
    {
      "cell_type": "code",
      "source": [
        "kkt_loss"
      ],
      "metadata": {
        "colab": {
          "base_uri": "https://localhost:8080/"
        },
        "id": "qVHKz_qxP1K9",
        "outputId": "2c501c75-5a89-4672-d224-d04fd570828f"
      },
      "execution_count": 65,
      "outputs": [
        {
          "output_type": "execute_result",
          "data": {
            "text/plain": [
              "tensor(2857.9128, dtype=torch.float64, grad_fn=<AddBackward0>)"
            ]
          },
          "metadata": {},
          "execution_count": 65
        }
      ]
    },
    {
      "cell_type": "code",
      "source": [
        "def get_verify_loss(x, l):\n",
        "    loss_verify = 0\n",
        "    loss_verify += 1 * (x - 1).relu().pow(2).sum()\n",
        "    loss_verify += 1 * (-1 - x).relu().pow(2).sum()\n",
        "    loss_verify += 5 * (-l + 0.4983026413803425).relu().pow(2).sum()\n",
        "    return loss_verify"
      ],
      "metadata": {
        "id": "ANB0t9rATTl3"
      },
      "execution_count": 68,
      "outputs": []
    },
    {
      "cell_type": "code",
      "source": [
        "loss_verify=get_verify_loss(x_recons,l)"
      ],
      "metadata": {
        "id": "p69FrcJFm7pk"
      },
      "execution_count": 69,
      "outputs": []
    },
    {
      "cell_type": "code",
      "source": [
        "for epoch in range(50000):\n",
        "        values = model(x_recons).squeeze()\n",
        "        kkt_loss, loss_verify =get_kkt_loss(values,l,y,model),get_verify_loss(x_recons,l)\n",
        "        loss=kkt_loss+loss_verify\n",
        "        if np.isnan(kkt_loss.item()):\n",
        "            raise ValueError('Optimizer diverged during extraction')\n",
        "        opt_x_recons.zero_grad()\n",
        "        opt_l.zero_grad()\n",
        "        loss.backward()\n",
        "        opt_x_recons.step()\n",
        "        opt_l.step()\n",
        "        if(epoch%1000==0):\n",
        "          print(epoch)\n",
        "        "
      ],
      "metadata": {
        "colab": {
          "base_uri": "https://localhost:8080/"
        },
        "id": "qIpnDa68nFkf",
        "outputId": "803cb9eb-0f3d-4907-9bbc-32b0d92652bc"
      },
      "execution_count": null,
      "outputs": [
        {
          "output_type": "stream",
          "name": "stdout",
          "text": [
            "0\n",
            "1000\n",
            "2000\n",
            "3000\n",
            "4000\n",
            "5000\n",
            "6000\n",
            "7000\n",
            "8000\n",
            "9000\n",
            "10000\n",
            "11000\n",
            "12000\n",
            "13000\n",
            "14000\n",
            "15000\n",
            "16000\n",
            "17000\n"
          ]
        }
      ]
    },
    {
      "cell_type": "code",
      "source": [
        "opt_x_recons"
      ],
      "metadata": {
        "colab": {
          "base_uri": "https://localhost:8080/"
        },
        "id": "DJoGxpIQnNCH",
        "outputId": "c1cf9638-6c67-4c3d-ab86-018d9390f66d"
      },
      "execution_count": 104,
      "outputs": [
        {
          "output_type": "execute_result",
          "data": {
            "text/plain": [
              "SGD (\n",
              "Parameter Group 0\n",
              "    dampening: 0\n",
              "    differentiable: False\n",
              "    foreach: None\n",
              "    lr: 0.01\n",
              "    maximize: False\n",
              "    momentum: 0.9\n",
              "    nesterov: False\n",
              "    weight_decay: 0\n",
              ")"
            ]
          },
          "metadata": {},
          "execution_count": 104
        }
      ]
    },
    {
      "cell_type": "code",
      "source": [
        "x_recons"
      ],
      "metadata": {
        "colab": {
          "base_uri": "https://localhost:8080/"
        },
        "id": "VZFbCzJWn6XG",
        "outputId": "6661fce5-8459-4a76-d645-07f28a4bee10"
      },
      "execution_count": 105,
      "outputs": [
        {
          "output_type": "execute_result",
          "data": {
            "text/plain": [
              "tensor([[-1.2235,  1.7353],\n",
              "        [ 2.5764,  0.2107],\n",
              "        [-0.4414, -1.2741],\n",
              "        [-0.4566,  0.1752],\n",
              "        [ 2.3700, -0.0648],\n",
              "        [ 1.2658,  1.0316],\n",
              "        [-1.5327,  0.4300],\n",
              "        [-0.6561, -1.9102],\n",
              "        [-0.5036, -0.3179],\n",
              "        [ 0.3324, -0.2464],\n",
              "        [ 2.0652,  0.5362],\n",
              "        [-1.0435, -0.0232],\n",
              "        [-0.8429,  0.1352],\n",
              "        [ 0.7699,  1.5022],\n",
              "        [-1.8188,  0.5215],\n",
              "        [-0.3799,  1.3657],\n",
              "        [ 0.4972,  0.8493],\n",
              "        [ 0.6745,  0.9361],\n",
              "        [ 1.0915,  0.8107],\n",
              "        [ 0.3614,  0.2835],\n",
              "        [-0.6915,  1.3357],\n",
              "        [-0.3250, -0.2189],\n",
              "        [-0.3023,  0.7911],\n",
              "        [ 1.4106,  0.1184],\n",
              "        [-0.1056,  0.7047],\n",
              "        [-0.9952,  0.6153],\n",
              "        [ 1.1083, -1.1610],\n",
              "        [-0.4932, -0.0900],\n",
              "        [-0.3884,  0.3270],\n",
              "        [ 0.1550,  1.9085],\n",
              "        [-0.7317, -0.3383],\n",
              "        [-0.3800,  0.9118],\n",
              "        [ 0.0822,  0.1019],\n",
              "        [ 1.2801,  0.3030],\n",
              "        [-1.2882,  0.6467],\n",
              "        [ 0.4412,  0.4514],\n",
              "        [ 1.1117,  0.4190],\n",
              "        [-0.2683,  2.5079],\n",
              "        [ 1.3044, -1.0662],\n",
              "        [ 0.9384,  0.0818]], dtype=torch.float64)"
            ]
          },
          "metadata": {},
          "execution_count": 105
        }
      ]
    },
    {
      "cell_type": "code",
      "source": [
        "x_recons"
      ],
      "metadata": {
        "colab": {
          "base_uri": "https://localhost:8080/"
        },
        "id": "94uGHm1RqP6I",
        "outputId": "94ab71ea-da68-4bbe-8ac3-d7226145b92d"
      },
      "execution_count": 78,
      "outputs": [
        {
          "output_type": "execute_result",
          "data": {
            "text/plain": [
              "tensor([[ 0.9349, -0.2258],\n",
              "        [ 0.7236,  0.5235],\n",
              "        [ 1.4883, -0.4232],\n",
              "        [-0.5597, -0.7137],\n",
              "        [-1.2163,  0.3108],\n",
              "        [-2.3479,  2.9770],\n",
              "        [ 0.6831,  0.3837],\n",
              "        [ 0.4717,  1.3589],\n",
              "        [-0.9975, -1.1045],\n",
              "        [ 1.7470, -0.6006],\n",
              "        [ 0.5297,  1.0011],\n",
              "        [ 1.8379, -0.9137],\n",
              "        [-0.9489, -0.2634],\n",
              "        [-1.3420, -0.9547],\n",
              "        [-1.4123,  1.0511],\n",
              "        [-0.0553,  0.0442],\n",
              "        [ 1.1021,  0.3099],\n",
              "        [ 1.2995,  1.4130],\n",
              "        [-0.1705, -1.1931],\n",
              "        [ 1.0287,  0.4594],\n",
              "        [-2.2019, -0.6327],\n",
              "        [ 0.5933,  0.5412],\n",
              "        [-0.4828, -0.6670],\n",
              "        [ 0.8715, -0.6389],\n",
              "        [-0.1098,  0.2994],\n",
              "        [-0.9005,  1.2799],\n",
              "        [ 0.3943,  0.3888],\n",
              "        [-0.6987, -1.1442],\n",
              "        [ 1.4850,  0.0946],\n",
              "        [-1.5756,  0.0338],\n",
              "        [-1.1539,  1.7210],\n",
              "        [ 1.1723,  1.8227],\n",
              "        [ 0.5292, -0.7571],\n",
              "        [ 0.2316, -0.3765],\n",
              "        [ 1.7573,  0.5804],\n",
              "        [-0.2884, -0.3119],\n",
              "        [ 0.2860, -0.1161],\n",
              "        [-0.2975, -0.1660],\n",
              "        [-0.9672, -0.2050],\n",
              "        [-3.4910, -2.1288]], dtype=torch.float64)"
            ]
          },
          "metadata": {},
          "execution_count": 78
        }
      ]
    },
    {
      "cell_type": "code",
      "source": [
        "plt.scatter(x_recons[:,0], x_recons[:,1], c=y, cmap='coolwarm')\n",
        "plt.show()"
      ],
      "metadata": {
        "colab": {
          "base_uri": "https://localhost:8080/",
          "height": 430
        },
        "id": "0Nzw7NuaodfB",
        "outputId": "946ca894-f568-4666-9b4d-574d83dca78f"
      },
      "execution_count": 106,
      "outputs": [
        {
          "output_type": "display_data",
          "data": {
            "text/plain": [
              "<Figure size 640x480 with 1 Axes>"
            ],
            "image/png": "[encoded data removed]"
          },
          "metadata": {}
        }
      ]
    },
    {
      "cell_type": "code",
      "source": [
        "l"
      ],
      "metadata": {
        "colab": {
          "base_uri": "https://localhost:8080/"
        },
        "id": "JHZpLx8Uo1L2",
        "outputId": "543fe9bb-f836-49ae-cc63-bdde9f96d861"
      },
      "execution_count": 107,
      "outputs": [
        {
          "output_type": "execute_result",
          "data": {
            "text/plain": [
              "tensor([0.3163, 0.7050, 0.7809, 0.4065, 0.1297, 0.1897, 0.6174, 0.9572, 0.4884,\n",
              "        0.2616, 0.9923, 0.6754, 0.9847, 0.8273, 0.3466, 0.6942, 0.3303, 0.4535,\n",
              "        0.8913, 0.1964, 0.0693, 0.8075, 0.0861, 0.6302, 0.6802, 0.1999, 0.3245,\n",
              "        0.3988, 0.8052, 0.9325, 0.8161, 0.4101, 0.0609, 0.9995, 0.4087, 0.9831,\n",
              "        0.1271, 0.0170, 0.1142, 0.5008])"
            ]
          },
          "metadata": {},
          "execution_count": 107
        }
      ]
    },
    {
      "cell_type": "code",
      "source": [],
      "metadata": {
        "id": "T7pUBnnJsHYP"
      },
      "execution_count": null,
      "outputs": []
    }
  ]
}